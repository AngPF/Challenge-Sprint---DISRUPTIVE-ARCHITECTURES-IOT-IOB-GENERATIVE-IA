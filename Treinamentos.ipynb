{
 "cells": [
  {
   "cell_type": "code",
   "execution_count": 3,
   "metadata": {},
   "outputs": [],
   "source": [
    "import pandas as pd\n",
    "\n",
    "dataset = pd.read_csv('dataset_campanhas.csv')"
   ]
  },
  {
   "cell_type": "code",
   "execution_count": 4,
   "metadata": {},
   "outputs": [
    {
     "data": {
      "text/html": [
       "<div>\n",
       "<style scoped>\n",
       "    .dataframe tbody tr th:only-of-type {\n",
       "        vertical-align: middle;\n",
       "    }\n",
       "\n",
       "    .dataframe tbody tr th {\n",
       "        vertical-align: top;\n",
       "    }\n",
       "\n",
       "    .dataframe thead th {\n",
       "        text-align: right;\n",
       "    }\n",
       "</style>\n",
       "<table border=\"1\" class=\"dataframe\">\n",
       "  <thead>\n",
       "    <tr style=\"text-align: right;\">\n",
       "      <th></th>\n",
       "      <th>nome</th>\n",
       "      <th>titulo</th>\n",
       "      <th>faixa_etaria</th>\n",
       "      <th>budget_total</th>\n",
       "      <th>expectativa_alcance</th>\n",
       "      <th>canal_marketing</th>\n",
       "      <th>roi</th>\n",
       "      <th>cpc</th>\n",
       "      <th>numero_conversoes</th>\n",
       "    </tr>\n",
       "  </thead>\n",
       "  <tbody>\n",
       "    <tr>\n",
       "      <th>0</th>\n",
       "      <td>Campanha_1403</td>\n",
       "      <td>Filme_5636</td>\n",
       "      <td>10</td>\n",
       "      <td>22236.08</td>\n",
       "      <td>572988</td>\n",
       "      <td>YouTube</td>\n",
       "      <td>196265.89</td>\n",
       "      <td>3.97</td>\n",
       "      <td>54374</td>\n",
       "    </tr>\n",
       "    <tr>\n",
       "      <th>1</th>\n",
       "      <td>Campanha_7127</td>\n",
       "      <td>Filme_7495</td>\n",
       "      <td>16</td>\n",
       "      <td>47395.19</td>\n",
       "      <td>917724</td>\n",
       "      <td>Instagram</td>\n",
       "      <td>397986.58</td>\n",
       "      <td>2.59</td>\n",
       "      <td>151391</td>\n",
       "    </tr>\n",
       "    <tr>\n",
       "      <th>2</th>\n",
       "      <td>Campanha_3354</td>\n",
       "      <td>Filme_2303</td>\n",
       "      <td>0</td>\n",
       "      <td>37819.15</td>\n",
       "      <td>289723</td>\n",
       "      <td>Instagram</td>\n",
       "      <td>317124.07</td>\n",
       "      <td>9.50</td>\n",
       "      <td>12643</td>\n",
       "    </tr>\n",
       "    <tr>\n",
       "      <th>3</th>\n",
       "      <td>Campanha_7242</td>\n",
       "      <td>Filme_683</td>\n",
       "      <td>14</td>\n",
       "      <td>4848.65</td>\n",
       "      <td>566315</td>\n",
       "      <td>Instagram</td>\n",
       "      <td>22789.38</td>\n",
       "      <td>7.73</td>\n",
       "      <td>95487</td>\n",
       "    </tr>\n",
       "    <tr>\n",
       "      <th>4</th>\n",
       "      <td>Campanha_380</td>\n",
       "      <td>Filme_15</td>\n",
       "      <td>14</td>\n",
       "      <td>49028.84</td>\n",
       "      <td>415300</td>\n",
       "      <td>Facebook</td>\n",
       "      <td>214588.91</td>\n",
       "      <td>3.87</td>\n",
       "      <td>61905</td>\n",
       "    </tr>\n",
       "  </tbody>\n",
       "</table>\n",
       "</div>"
      ],
      "text/plain": [
       "            nome      titulo  faixa_etaria  budget_total  expectativa_alcance  \\\n",
       "0  Campanha_1403  Filme_5636            10      22236.08               572988   \n",
       "1  Campanha_7127  Filme_7495            16      47395.19               917724   \n",
       "2  Campanha_3354  Filme_2303             0      37819.15               289723   \n",
       "3  Campanha_7242   Filme_683            14       4848.65               566315   \n",
       "4   Campanha_380    Filme_15            14      49028.84               415300   \n",
       "\n",
       "  canal_marketing        roi   cpc  numero_conversoes  \n",
       "0         YouTube  196265.89  3.97              54374  \n",
       "1       Instagram  397986.58  2.59             151391  \n",
       "2       Instagram  317124.07  9.50              12643  \n",
       "3       Instagram   22789.38  7.73              95487  \n",
       "4        Facebook  214588.91  3.87              61905  "
      ]
     },
     "execution_count": 4,
     "metadata": {},
     "output_type": "execute_result"
    }
   ],
   "source": [
    "dataset.head()"
   ]
  },
  {
   "cell_type": "code",
   "execution_count": 5,
   "metadata": {},
   "outputs": [
    {
     "ename": "ModuleNotFoundError",
     "evalue": "No module named 'sklearn'",
     "output_type": "error",
     "traceback": [
      "\u001b[1;31m---------------------------------------------------------------------------\u001b[0m",
      "\u001b[1;31mModuleNotFoundError\u001b[0m                       Traceback (most recent call last)",
      "\u001b[1;32m~\\AppData\\Local\\Temp\\ipykernel_31636\\3507447518.py\u001b[0m in \u001b[0;36m<module>\u001b[1;34m\u001b[0m\n\u001b[0;32m      1\u001b[0m \u001b[1;32mimport\u001b[0m \u001b[0mpandas\u001b[0m \u001b[1;32mas\u001b[0m \u001b[0mpd\u001b[0m\u001b[1;33m\u001b[0m\u001b[1;33m\u001b[0m\u001b[0m\n\u001b[1;32m----> 2\u001b[1;33m \u001b[1;32mfrom\u001b[0m \u001b[0msklearn\u001b[0m\u001b[1;33m.\u001b[0m\u001b[0mmodel_selection\u001b[0m \u001b[1;32mimport\u001b[0m \u001b[0mtrain_test_split\u001b[0m\u001b[1;33m\u001b[0m\u001b[1;33m\u001b[0m\u001b[0m\n\u001b[0m\u001b[0;32m      3\u001b[0m \u001b[1;32mfrom\u001b[0m \u001b[0msklearn\u001b[0m\u001b[1;33m.\u001b[0m\u001b[0mensemble\u001b[0m \u001b[1;32mimport\u001b[0m \u001b[0mRandomForestClassifier\u001b[0m\u001b[1;33m\u001b[0m\u001b[1;33m\u001b[0m\u001b[0m\n\u001b[0;32m      4\u001b[0m \u001b[1;32mfrom\u001b[0m \u001b[0msklearn\u001b[0m\u001b[1;33m.\u001b[0m\u001b[0mmetrics\u001b[0m \u001b[1;32mimport\u001b[0m \u001b[0mclassification_report\u001b[0m\u001b[1;33m,\u001b[0m \u001b[0maccuracy_score\u001b[0m\u001b[1;33m\u001b[0m\u001b[1;33m\u001b[0m\u001b[0m\n\u001b[0;32m      5\u001b[0m \u001b[1;32mfrom\u001b[0m \u001b[0msklearn\u001b[0m\u001b[1;33m.\u001b[0m\u001b[0mpreprocessing\u001b[0m \u001b[1;32mimport\u001b[0m \u001b[0mLabelEncoder\u001b[0m\u001b[1;33m\u001b[0m\u001b[1;33m\u001b[0m\u001b[0m\n",
      "\u001b[1;31mModuleNotFoundError\u001b[0m: No module named 'sklearn'"
     ]
    }
   ],
   "source": [
    "import pandas as pd\n",
    "from sklearn.model_selection import train_test_split\n",
    "from sklearn.ensemble import RandomForestClassifier\n",
    "from sklearn.metrics import classification_report, accuracy_score\n",
    "from sklearn.preprocessing import LabelEncoder\n",
    "\n",
    "\n",
    "# Codificar a coluna 'canal_marketing' para valores numéricos\n",
    "label_encoder = LabelEncoder()\n",
    "dataset['canal_marketing'] = label_encoder.fit_transform(df['canal_marketing'])\n",
    "\n",
    "# Preparar os dados para classificação\n",
    "X = dataset[['faixa_etaria', 'budget_total', 'expectativa_alcance']]\n",
    "y = dataset['canal_marketing']\n",
    "\n",
    "# Dividir em treino e teste\n",
    "X_train, X_test, y_train, y_test = train_test_split(X, y, test_size=0.2, random_state=42)\n",
    "\n",
    "# Treinar o modelo de classificação\n",
    "modelo_classificacao = RandomForestClassifier(n_estimators=100, random_state=42)\n",
    "modelo_classificacao.fit(X_train, y_train)\n",
    "\n",
    "# Fazer previsões e avaliar\n",
    "y_pred = modelo_classificacao.predict(X_test)\n",
    "print(\"Acurácia:\", accuracy_score(y_test, y_pred))\n",
    "print(\"Relatório de Classificação:\\n\", classification_report(y_test, y_pred))\n",
    "\n"
   ]
  },
  {
   "cell_type": "code",
   "execution_count": null,
   "metadata": {},
   "outputs": [],
   "source": [
    "# Bloco para teste manual\n",
    "faixa_etaria = 12  # Exemplo\n",
    "budget_total = 20000.00  # Exemplo\n",
    "expectativa_alcance = 500000  # Exemplo\n",
    "\n",
    "entrada_teste = [[faixa_etaria, budget_total, expectativa_alcance]]\n",
    "canal_previsto_codigo = modelo_classificacao.predict(entrada_teste)\n",
    "canal_previsto = label_encoder.inverse_transform(canal_previsto_codigo)\n",
    "\n",
    "print(f\"O canal de marketing indicado é: {canal_previsto[0]}\")"
   ]
  }
 ],
 "metadata": {
  "kernelspec": {
   "display_name": "Python 3",
   "language": "python",
   "name": "python3"
  },
  "language_info": {
   "codemirror_mode": {
    "name": "ipython",
    "version": 3
   },
   "file_extension": ".py",
   "mimetype": "text/x-python",
   "name": "python",
   "nbconvert_exporter": "python",
   "pygments_lexer": "ipython3",
   "version": "3.7.9"
  }
 },
 "nbformat": 4,
 "nbformat_minor": 2
}
