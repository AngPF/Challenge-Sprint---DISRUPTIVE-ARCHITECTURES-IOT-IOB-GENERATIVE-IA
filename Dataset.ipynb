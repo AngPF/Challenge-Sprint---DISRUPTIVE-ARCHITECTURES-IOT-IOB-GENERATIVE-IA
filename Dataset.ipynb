{
 "cells": [
  {
   "cell_type": "code",
   "execution_count": 2,
   "metadata": {},
   "outputs": [],
   "source": [
    "\n",
    "import pandas as pd\n",
    "import random\n",
    "\n",
    "# Padrão de faixa etária do Brasil\n",
    "faixas_etarias = [0, 10, 12, 14, 16, 18]\n",
    "#sendo 0-LIVRE PARA TODOS OS PUBLICOS, 10- MAIORES DE 10 ANOS, 12- MAIORES DE 12 ANOS, 14- MAIORES DE 14 ANOS, 16- MAIORES DE 16 ANOS E 18- MAIORES DE 18 ANOS\n",
    "\n",
    "canais_marketing = ['Instagram', 'Google Ads', 'Twitter', 'Facebook', 'LinkedIn', 'YouTube']\n",
    "\n",
    "def gerar_dados_ficticios(n):\n",
    "    dados = []\n",
    "    for _ in range(n):\n",
    "        nome = f\"Campanha_{random.randint(1, 10000)}\"\n",
    "        titulo = f\"Filme_{random.randint(1, 10000)}\"\n",
    "        faixa_etaria = random.choice(faixas_etarias)\n",
    "        budget_total = round(random.uniform(1000, 50000), 2)\n",
    "        expectativa_alcance = random.randint(10000, 1000000)  \n",
    "        canal_marketing = random.choice(canais_marketing)\n",
    "        roi = round(random.uniform(0.5, 10) * budget_total, 2)\n",
    "        cpc = round(random.uniform(0.1, 10), 2)\n",
    "        numero_conversoes = int(expectativa_alcance * random.uniform(0.01, 0.2))\n",
    "        \n",
    "        dados.append([\n",
    "            nome, titulo, faixa_etaria, budget_total, \n",
    "            expectativa_alcance, canal_marketing, roi, cpc, numero_conversoes\n",
    "        ])\n",
    "    \n",
    "    return pd.DataFrame(dados, columns=[\n",
    "        'nome', 'titulo', 'faixa_etaria', 'budget_total', \n",
    "        'expectativa_alcance', 'canal_marketing', 'roi', 'cpc', 'numero_conversoes'\n",
    "    ])\n",
    "\n",
    "# Gerar o dataset\n",
    "dataset = gerar_dados_ficticios(10000)\n",
    "dataset.to_csv('dataset_campanhas.csv', index=False)"
   ]
  }
 ],
 "metadata": {
  "kernelspec": {
   "display_name": "Python 3",
   "language": "python",
   "name": "python3"
  },
  "language_info": {
   "codemirror_mode": {
    "name": "ipython",
    "version": 3
   },
   "file_extension": ".py",
   "mimetype": "text/x-python",
   "name": "python",
   "nbconvert_exporter": "python",
   "pygments_lexer": "ipython3",
   "version": "3.7.9"
  }
 },
 "nbformat": 4,
 "nbformat_minor": 2
}
